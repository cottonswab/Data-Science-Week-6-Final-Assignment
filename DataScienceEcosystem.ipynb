{
 "cells": [
  {
   "cell_type": "markdown",
   "id": "8068326e-602d-4fa0-8974-77aba1380ad3",
   "metadata": {},
   "source": [
    "# Data Science Tools and Ecosystem"
   ]
  },
  {
   "cell_type": "markdown",
   "id": "5bf5b1af-c005-4148-bebe-83a2ea9ff8ce",
   "metadata": {},
   "source": [
    "In this notebook, Data Science Tools and Ecosystem are summarized."
   ]
  },
  {
   "cell_type": "markdown",
   "id": "db716e85-868d-43b3-8dfd-5652f200a31d",
   "metadata": {},
   "source": [
    "Some of the popular languages that Data Scientists use are:\n",
    "\n",
    "    1. Numpy\n",
    "    2. Scikit Learn\n",
    "    3. Pandas"
   ]
  },
  {
   "cell_type": "markdown",
   "id": "bee04a93-b687-47f3-8e97-a5d978027671",
   "metadata": {
    "tags": []
   },
   "source": [
    "Data Science Tools|\n",
    "---|\n",
    "RStudio|\n",
    "Apache Spark|\n",
    "TensorFlow|"
   ]
  },
  {
   "cell_type": "markdown",
   "id": "93733687-3682-4476-b495-40e387d66da8",
   "metadata": {
    "tags": []
   },
   "source": [
    "### Below are a few examples of evaluating arithmetic expressions in Python."
   ]
  },
  {
   "cell_type": "code",
   "execution_count": 7,
   "id": "2d3a6804-ada5-4b58-8c20-b583e5689d26",
   "metadata": {
    "tags": []
   },
   "outputs": [
    {
     "data": {
      "text/plain": [
       "17"
      ]
     },
     "execution_count": 7,
     "metadata": {},
     "output_type": "execute_result"
    }
   ],
   "source": [
    "#This a simple arithmetic expression to mutiply then add integers\n",
    "(3*4)+5"
   ]
  },
  {
   "cell_type": "markdown",
   "id": "b4b80d41-c3a8-49f2-98af-17a5700129a8",
   "metadata": {
    "tags": []
   },
   "source": [
    "#This will convert 200 minutes to hours by diving by 60\n",
    "200/60"
   ]
  },
  {
   "cell_type": "markdown",
   "id": "ebb9d524-a4c7-40a2-8f6b-1ec4205c5d1c",
   "metadata": {},
   "source": [
    "**Objectives:**\n",
    "* List popular languages for Data Science\n",
    "* List popular Data Science libraries\n",
    "* List popular Data Science development environment tools\n",
    "* Review mardown syntax in Jupyter lab\n",
    "* Review arithmetic code in Jupyter lab\n"
   ]
  },
  {
   "cell_type": "markdown",
   "id": "b93794af-4acd-4d4c-9b4a-e0120b3d1d06",
   "metadata": {
    "tags": []
   },
   "source": [
    "## Author\n",
    "Ali Asalias"
   ]
  }
 ],
 "metadata": {
  "kernelspec": {
   "display_name": "Python",
   "language": "python",
   "name": "conda-env-python-py"
  },
  "language_info": {
   "codemirror_mode": {
    "name": "ipython",
    "version": 3
   },
   "file_extension": ".py",
   "mimetype": "text/x-python",
   "name": "python",
   "nbconvert_exporter": "python",
   "pygments_lexer": "ipython3",
   "version": "3.7.12"
  }
 },
 "nbformat": 4,
 "nbformat_minor": 5
}
